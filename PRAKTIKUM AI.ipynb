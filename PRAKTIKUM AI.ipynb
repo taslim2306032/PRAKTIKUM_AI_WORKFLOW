{
  "nbformat": 4,
  "nbformat_minor": 0,
  "metadata": {
    "colab": {
      "provenance": []
    },
    "kernelspec": {
      "name": "python3",
      "display_name": "Python 3"
    },
    "language_info": {
      "name": "python"
    }
  },
  "cells": [
    {
      "cell_type": "code",
      "execution_count": 6,
      "metadata": {
        "colab": {
          "base_uri": "https://localhost:8080/"
        },
        "id": "ifLftn76bqzB",
        "outputId": "201faad3-66a2-4560-8a02-9a61b0f4156b"
      },
      "outputs": [
        {
          "output_type": "stream",
          "name": "stdout",
          "text": [
            "File CSV berhasil dibuat.\n"
          ]
        }
      ],
      "source": [
        "import pandas as pd\n",
        "\n",
        "# Buat data penjualan toko\n",
        "data = {\n",
        "    \"Tanggal\": [\"2025-05-20\", \"2025-05-22\", \"2025-05-23\", \"2025-05-24\", \"2025-05-25\",\n",
        "                \"2025-05-26\", \"2025-05-27\", \"2025-05-28\", \"2025-05-29\", \"2025-05-30\"],\n",
        "    \"Produk\": [\"teh pucuk\", \"pocari sweat\", \"cocacola\", \"tebs\", \"Teh Kotak\",\n",
        "               \"Kopicap\", \"Susu murni\", \"Lasegar\", \"larutan\", \"vitacimin\"],\n",
        "    \"Terjual\": [10, 5, 11, 10, 10, 10, 5, 20, 11, 13],  # Hanya angka\n",
        "    \"Stok\": [30, 35, 20, 15, 32, 30, 25, 10, 20, 25],  # Hanya angka\n",
        "    \"Harga Satuan\": [30000, 70000, 50000, 70000, 50000, 25000, 80000, 50000, 70000, 80000]\n",
        "}\n",
        "\n",
        "# Simpan dalam DataFrame\n",
        "df = pd.DataFrame(data)\n",
        "\n",
        "# Simpan sebagai file CSV\n",
        "df.to_csv(\"data_penjualan_latihan.csv\", index=False)\n",
        "\n",
        "print(\"File CSV berhasil dibuat.\")"
      ]
    },
    {
      "cell_type": "code",
      "source": [
        "#membaca file CSV\n",
        "df =pd.read_csv(\"data_penjualan_latihan.csv\")\n",
        "\n",
        "#menampilkan 5 data pertama\n",
        "print(df.head())"
      ],
      "metadata": {
        "colab": {
          "base_uri": "https://localhost:8080/"
        },
        "id": "h_TAdtUwfE-T",
        "outputId": "6acbbc79-633e-4f0b-ab98-655eef19e899"
      },
      "execution_count": 7,
      "outputs": [
        {
          "output_type": "stream",
          "name": "stdout",
          "text": [
            "      Tanggal        Produk  Terjual  Stok  Harga Satuan\n",
            "0  2025-05-20     teh pucuk       10    30         30000\n",
            "1  2025-05-22  pocari sweat        5    35         70000\n",
            "2  2025-05-23      cocacola       11    20         50000\n",
            "3  2025-05-24          tebs       10    15         70000\n",
            "4  2025-05-25     Teh Kotak       10    32         50000\n"
          ]
        }
      ]
    },
    {
      "cell_type": "code",
      "source": [
        "#cek apa ada data yang kosong\n",
        "print(df.isnull().sum())\n",
        "\n",
        "#konvers kolom tanggal ke format datetime\n",
        "df[\"Tanggal\"]=pd.to_datetime(df[\"Tanggal\"])\n",
        "df[\"Total Penjualan\"]=df[\"Terjual\"] *df[\"Harga Satuan\"]\n",
        "df[\"Keuntungan\"]=df[\"Total Penjualan\"] - (df[\"Terjual\"]*10000)\n",
        "\n",
        "print(df.head())"
      ],
      "metadata": {
        "colab": {
          "base_uri": "https://localhost:8080/"
        },
        "id": "-ps5Tc0HfPXd",
        "outputId": "0432070a-50c5-4741-908b-c9b9994a9567"
      },
      "execution_count": 8,
      "outputs": [
        {
          "output_type": "stream",
          "name": "stdout",
          "text": [
            "Tanggal         0\n",
            "Produk          0\n",
            "Terjual         0\n",
            "Stok            0\n",
            "Harga Satuan    0\n",
            "dtype: int64\n",
            "     Tanggal        Produk  Terjual  Stok  Harga Satuan  Total Penjualan  \\\n",
            "0 2025-05-20     teh pucuk       10    30         30000           300000   \n",
            "1 2025-05-22  pocari sweat        5    35         70000           350000   \n",
            "2 2025-05-23      cocacola       11    20         50000           550000   \n",
            "3 2025-05-24          tebs       10    15         70000           700000   \n",
            "4 2025-05-25     Teh Kotak       10    32         50000           500000   \n",
            "\n",
            "   Keuntungan  \n",
            "0      200000  \n",
            "1      300000  \n",
            "2      440000  \n",
            "3      600000  \n",
            "4      400000  \n"
          ]
        }
      ]
    },
    {
      "cell_type": "code",
      "source": [
        "!pip install scikit-learn"
      ],
      "metadata": {
        "colab": {
          "base_uri": "https://localhost:8080/"
        },
        "id": "LbjN_vxYgBEJ",
        "outputId": "771a3eb0-fce8-4f51-8cd1-b5f811129f45"
      },
      "execution_count": 9,
      "outputs": [
        {
          "output_type": "stream",
          "name": "stdout",
          "text": [
            "Requirement already satisfied: scikit-learn in /usr/local/lib/python3.11/dist-packages (1.6.1)\n",
            "Requirement already satisfied: numpy>=1.19.5 in /usr/local/lib/python3.11/dist-packages (from scikit-learn) (1.26.4)\n",
            "Requirement already satisfied: scipy>=1.6.0 in /usr/local/lib/python3.11/dist-packages (from scikit-learn) (1.13.1)\n",
            "Requirement already satisfied: joblib>=1.2.0 in /usr/local/lib/python3.11/dist-packages (from scikit-learn) (1.4.2)\n",
            "Requirement already satisfied: threadpoolctl>=3.1.0 in /usr/local/lib/python3.11/dist-packages (from scikit-learn) (3.5.0)\n"
          ]
        }
      ]
    },
    {
      "cell_type": "code",
      "source": [
        "from sklearn.model_selection import train_test_split\n",
        "from sklearn.tree import DecisionTreeClassifier\n",
        "from sklearn.metrics import accuracy_score\n",
        "\n",
        "# Pilih fitur (x) dan target (y)\n",
        "x = df[[\"Terjual\", \"Stok\"]]\n",
        "y = (df[\"Stok\"] < 5).astype(int) # 1 jika stok kurang dari 5, 0 jika cukup\n",
        "\n",
        "# Split data menjadi train dan test\n",
        "x_train, x_test, y_train, y_test = train_test_split(x, y, test_size=0.2, random_state=42)\n",
        "\n",
        "# Buat model Decision Tree\n",
        "model =DecisionTreeClassifier()\n",
        "model.fit(x_train, y_train)\n",
        "\n",
        "# Evaluasi model\n",
        "y_pred =model.predict(x_test)\n",
        "print(\"Akurasi Model: \", accuracy_score(y_test, y_pred))"
      ],
      "metadata": {
        "colab": {
          "base_uri": "https://localhost:8080/"
        },
        "id": "cJ10bSMAgMIn",
        "outputId": "7a5052b6-e171-4b35-f1e2-fb863e2f4848"
      },
      "execution_count": 10,
      "outputs": [
        {
          "output_type": "stream",
          "name": "stdout",
          "text": [
            "Akurasi Model:  1.0\n"
          ]
        }
      ]
    },
    {
      "cell_type": "code",
      "source": [
        "produk_baru=[[8,3]]\n",
        "prediksi=model.predict(produk_baru)\n",
        "\n",
        "if prediksi[0]==1:\n",
        "  print(\"produk perlu di restock\")\n",
        "else:\n",
        "  print(\"stock cukup\")"
      ],
      "metadata": {
        "colab": {
          "base_uri": "https://localhost:8080/"
        },
        "id": "ORZ2vd2wgT6G",
        "outputId": "b82834f9-20c7-48f5-90ec-899aff6074e8"
      },
      "execution_count": 11,
      "outputs": [
        {
          "output_type": "stream",
          "name": "stdout",
          "text": [
            "stock cukup\n"
          ]
        },
        {
          "output_type": "stream",
          "name": "stderr",
          "text": [
            "/usr/local/lib/python3.11/dist-packages/sklearn/utils/validation.py:2739: UserWarning: X does not have valid feature names, but DecisionTreeClassifier was fitted with feature names\n",
            "  warnings.warn(\n"
          ]
        }
      ]
    },
    {
      "cell_type": "code",
      "source": [
        "import matplotlib.pyplot as plt\n",
        "plt.scatter (df[\"Terjual\"], df[\"Stok\"], c=df[\"Keuntungan\"], cmap=\"coolwarm\")\n",
        "plt.xlabel(\"Terjual\")\n",
        "plt.ylabel(\"Stok\")\n",
        "plt.title(\"Analisis Penjualan dan Stok\")\n",
        "plt.colorbar (label=\"Keuntungan\")\n",
        "plt.show()"
      ],
      "metadata": {
        "colab": {
          "base_uri": "https://localhost:8080/",
          "height": 472
        },
        "id": "0rJOyQLxgavI",
        "outputId": "42862515-56c4-4dad-ef58-8bbe8b03a7d3"
      },
      "execution_count": 14,
      "outputs": [
        {
          "output_type": "display_data",
          "data": {
            "text/plain": [
              "<Figure size 640x480 with 2 Axes>"
            ],
            "image/png": "[encoded data removed]"
          },
          "metadata": {}
        }
      ]
    }
  ]
}